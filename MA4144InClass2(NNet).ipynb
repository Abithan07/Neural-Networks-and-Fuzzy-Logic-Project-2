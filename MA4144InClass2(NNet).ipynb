{
 "cells": [
  {
   "cell_type": "markdown",
   "id": "56157fb7-11e7-4151-8a9c-e95c4a844924",
   "metadata": {
    "deletable": false,
    "editable": false,
    "slideshow": {
     "slide_type": ""
    },
    "tags": []
   },
   "source": [
    "# <center>Feedforward and Backpropagation</center>\n",
    "## <center>Inclass Project 2 - MA4144</center>\n",
    "### Abithan A. - 210019E\n",
    "This project contains 12 tasks/questions to be completed, some require written answers. Questions that required written answers are given in blue fonts. Some written questions are open ended, they do not have a correct or wrong answer. You are free to give your opinions, but please provide related answers within the context.\n",
    "\n",
    "After finishing project run the entire notebook once and **save the notebook as a pdf** (File menu -> Save and Export Notebook As -> PDF). You are **required to upload this PDF on moodle and also the ipynb notebook file as well**.\n",
    "\n",
    "***"
   ]
  },
  {
   "attachments": {},
   "cell_type": "markdown",
   "id": "37c45f68-8516-4bd3-80b3-fa38c9fc01bf",
   "metadata": {
    "deletable": false,
    "editable": false,
    "slideshow": {
     "slide_type": ""
    },
    "tags": []
   },
   "source": [
    "## Outline of the project\n",
    "\n",
    "The aim of the project is to build a Multi Layer perceptron (MLP) model from scratch for binary classification. That is given an input $x$ output the associated class label $0$ or $1$.\n",
    "\n",
    "In particular, we will classify images of handwritten digits ($0, 1, 2, \\cdots, 9$). For example, given a set of handwritten digit images that only contain two digits (Eg: $1$ and $5$) the model will classify the images based on the written digit.\n",
    "\n",
    "For this we will use the MNIST dataset (collection of $28 \\times 28$ images of handwritten digits) - you can find additional information about MNIST [here](https://en.wikipedia.org/wiki/MNIST_database).\n",
    "\n",
    "<img src=\"https://upload.wikimedia.org/wikipedia/commons/f/f7/MnistExamplesModified.png\" width=\"250\">\n",
    "\n",
    "***\n"
   ]
  },
  {
   "cell_type": "markdown",
   "id": "ba8a0988-42a0-4e8f-abf5-2bc3ddf18304",
   "metadata": {
    "deletable": false,
    "editable": false,
    "slideshow": {
     "slide_type": ""
    },
    "tags": []
   },
   "source": [
    "Use the below cell to use any include any imports"
   ]
  },
  {
   "cell_type": "code",
   "execution_count": 250,
   "id": "aac8649a-c1fe-4236-8ebd-ce3faa43ee3b",
   "metadata": {
    "editable": true,
    "slideshow": {
     "slide_type": ""
    },
    "tags": []
   },
   "outputs": [],
   "source": [
    "import numpy as np\n",
    "import matplotlib.pyplot as plt\n",
    "from sklearn.metrics import accuracy_score"
   ]
  },
  {
   "cell_type": "markdown",
   "id": "e64c6025-f0e5-440e-ab25-fb22393f186c",
   "metadata": {
    "deletable": false,
    "editable": false,
    "slideshow": {
     "slide_type": ""
    },
    "tags": []
   },
   "source": [
    "## Section 1: Preparing the data"
   ]
  },
  {
   "cell_type": "code",
   "execution_count": 251,
   "id": "41a0c01b-d4ce-47c6-ad39-80ea85a59543",
   "metadata": {
    "editable": true,
    "slideshow": {
     "slide_type": ""
    },
    "tags": []
   },
   "outputs": [
    {
     "name": "stdout",
     "output_type": "stream",
     "text": [
      "(60000, 28, 28)\n",
      "(60000,)\n"
     ]
    }
   ],
   "source": [
    "#Load the dataset as training and testing, then print out the shapes of the data matrices.\n",
    "#The training data will be provided to you.\n",
    "\n",
    "data = np.load('train_mnist.npz')\n",
    "train_X = data['x']\n",
    "train_y = data['y']\n",
    "print(train_X.shape)\n",
    "print(train_y.shape)"
   ]
  },
  {
   "cell_type": "markdown",
   "id": "1135bf15-9a80-4d14-8fb4-e30c9e53a4cf",
   "metadata": {
    "deletable": false,
    "editable": false,
    "slideshow": {
     "slide_type": ""
    },
    "tags": []
   },
   "source": [
    "**Q1.** In the following cell write code to display $5$ random images in train_X and it's corresponding label in train_y. Each time it is run, you should get a different set of images. The imshow function in the matplotlib library could be useful. Display them as [grayscale images](https://en.wikipedia.org/wiki/Grayscale)."
   ]
  },
  {
   "cell_type": "code",
   "execution_count": 252,
   "id": "dad09af0-90d7-4590-922e-d114755455a4",
   "metadata": {
    "editable": true,
    "slideshow": {
     "slide_type": ""
    },
    "tags": []
   },
   "outputs": [
    {
     "data": {
      "image/png": "[encoded data removed]",
      "text/plain": [
       "<Figure size 1000x500 with 5 Axes>"
      ]
     },
     "metadata": {},
     "output_type": "display_data"
    }
   ],
   "source": [
    "#TODO Code to display 5 random handritten images from train_X and corresponting labels from train_y\n",
    "random_indices = np.random.choice(train_X.shape[0], size=5, replace=False)\n",
    "random_images = train_X[random_indices]\n",
    "random_labels = train_y[random_indices]\n",
    "\n",
    "plt.figure(figsize=(10, 5))\n",
    "for i in range(5):\n",
    "    plt.subplot(1, 5, i + 1)\n",
    "    plt.imshow(random_images[i].reshape(28, 28), cmap='gray')\n",
    "    plt.title(f\"Label: {random_labels[i]}\")\n",
    "    plt.axis('off')\n",
    "plt.show()"
   ]
  },
  {
   "cell_type": "markdown",
   "id": "580fd94a-370c-468b-ba0f-01c2506d4810",
   "metadata": {
    "deletable": false,
    "editable": false,
    "slideshow": {
     "slide_type": ""
    },
    "tags": []
   },
   "source": [
    "**Q2.** Given two digits $d_1$ and $d_2$, both between $0$ and $9$, in the following cell fill in the function body to extract all the samples corresponding to $d_1$ or $d_2$ only, from the dataset $X$ and labels $y$. You can use the labels $y$ to filter the dataset. Assume that the label for the $i$th image $X[i]$ in $X$ is given by $y[i]$. The function should return the extracted samples $X_{extracted}$ and corresponding labels $y_{extracted}$. Avoid using for loops as much as possible, infact you do not need any for loops. numpy.where function should be useful."
   ]
  },
  {
   "cell_type": "code",
   "execution_count": 253,
   "id": "8cd468f8-f28e-405d-aa0a-ac97470615f2",
   "metadata": {
    "editable": true,
    "slideshow": {
     "slide_type": ""
    },
    "tags": []
   },
   "outputs": [],
   "source": [
    "def extract_digits(X, y, d1, d2):\n",
    "\n",
    "    assert d1 in range(0, 10), \"d1 should be a number between 0 and 9 inclusive\"\n",
    "    assert d2 in range(0, 10), \"d2 should be a number between 0 and 9 inclusive\"\n",
    "    \n",
    "    #TODO\n",
    "    mask = (y == d1) | (y == d2)\n",
    "    X_extracted = X[mask]\n",
    "    y_extracted = y[mask]\n",
    "\n",
    "    return (X_extracted, y_extracted)"
   ]
  },
  {
   "attachments": {},
   "cell_type": "markdown",
   "id": "29123736-f5a7-4981-afd8-cdb69bae3f7d",
   "metadata": {
    "deletable": false,
    "editable": false,
    "slideshow": {
     "slide_type": ""
    },
    "tags": []
   },
   "source": [
    "**Q3.** Both the training dataset is a 3 dimensional numpy array, each image occupies 2 dimensions. For convenience of processing data we usually comvert each $28 \\times 28$ image matrix to a vector with $784$ entries. We call this process **vectorize images**.\n",
    "\n",
    "Once we vectorize the images, the vectorized data set would be structured as follows: $i$th row will correspond to a single image and $j$th column will correspond to the $j$th pixel value of each vectorized image. However going along with the convention we discussed in the lecture, the input to the MLP model will require that the columns correspond to individual images. Hence we also require a transpose of the vectorized results.\n",
    "\n",
    "The pixel values in the images will range from $0$ to $255$. Normalize the pixel values between $0$ and $1$, by dividing each pixel value of each image by the maximum pixel value of that image. Simply divide each column of the resulting matrix above by the max of each column. \n",
    "\n",
    "<center><img src=\"https://encrypted-tbn0.gstatic.com/images?q=tbn:ANd9GcTdN_8m9FEqjqAB07obTmB6gNc7S2rSoGBYaA&s\"></center>\n",
    "\n",
    "Given a dataset $X$ of size $N \\times 28 \\times 28$, in the following cell fill in the function to do the following in order;\n",
    "1. Vectorize the dataset resulting in dataset of size $N \\times 784$.\n",
    "2. Transpose the vectorized result.\n",
    "3. Normalize the pixel values of each image.\n",
    "4. Finally return the vectorized, transposed and normalized dataset $X_{transformed}$.\n",
    "\n",
    "Again, avoid for loops, functions such as numpy.reshape, numpy.max etc should be useful."
   ]
  },
  {
   "cell_type": "code",
   "execution_count": 254,
   "id": "eb50027a-5a36-4279-9972-a2bf449bef3d",
   "metadata": {
    "editable": true,
    "slideshow": {
     "slide_type": ""
    },
    "tags": []
   },
   "outputs": [],
   "source": [
    "def vectorize_images(X):\n",
    "    X_reshaped = X.reshape(X.shape[0], -1)\n",
    "    X_transposed = X_reshaped.T\n",
    "    max_vals = X_transposed.max(axis=0, keepdims=True)\n",
    "    max_vals[max_vals == 0] = 1  # Replace zeros with ones to avoid division by zero\n",
    "    X_vectorized = X_transposed / max_vals\n",
    "    X_vectorized = np.nan_to_num(X_vectorized)\n",
    "\n",
    "    return(X_vectorized)"
   ]
  },
  {
   "cell_type": "markdown",
   "id": "fbc428f8-0eec-4eb2-9df2-53cd924c9c9d",
   "metadata": {
    "deletable": false,
    "editable": false,
    "slideshow": {
     "slide_type": ""
    },
    "tags": []
   },
   "source": [
    "**Q4.** In the following cell write code to;\n",
    "\n",
    "1. Extract images of the digits $d_1 = 1$ and $d_2 = 5$ with their corresponding labels for the training set (train_X, train_y).\n",
    "2. Then vectorize the data, tranpose the result and normlize the images.\n",
    "3. Store the results after the final transformations in numpy arrays train_X_1_5, train_y_1_5.\n",
    "4. Our MLP will output only class labels $0$ and $1$ (not $1$ and $5$), so create numpy arrays to store the class labels as follows:\n",
    "   $d_1 = 1$ -> class label = 0 and $d_2 = 5$ -> class label = 1. Store them in an array named train_y_1_5.\n",
    "\n",
    "Use the above functions you implemented above to complete this task. In addtion, numpy.where could be useful. Avoid for loops as much as possible."
   ]
  },
  {
   "cell_type": "code",
   "execution_count": 255,
   "id": "2f1eea24-60a5-48ce-829a-67d61645078d",
   "metadata": {
    "editable": true,
    "slideshow": {
     "slide_type": ""
    },
    "tags": []
   },
   "outputs": [],
   "source": [
    "#TODO\n",
    "#Extract and organize the training data as described above.\n",
    "#Here you will be using the functions you implemented above appropriately\n",
    "\n",
    "X_1_5, y_1_5 = extract_digits(train_X, train_y, 1, 5)\n",
    "\n",
    "train_X_1_5 = vectorize_images(X_1_5)\n",
    "\n",
    "train_y_1_5 = np.where(y_1_5 == 1, 0, 1)\n",
    "\n"
   ]
  },
  {
   "cell_type": "markdown",
   "id": "8d99382b-43b7-4375-8825-4b7d267b6dac",
   "metadata": {
    "deletable": false,
    "editable": false,
    "slideshow": {
     "slide_type": ""
    },
    "tags": []
   },
   "source": [
    "## Section 2: Implementing MLP from scratch with training algorithms."
   ]
  },
  {
   "cell_type": "markdown",
   "id": "5864b18e-cf2e-4da6-a3df-20b8bd84633f",
   "metadata": {
    "deletable": false,
    "editable": false,
    "slideshow": {
     "slide_type": ""
    },
    "tags": []
   },
   "source": [
    "Now we will implement code to build a customizable MLP model. The hidden layers will have the **Relu activation function** and the final output layer will have **Sigmoid activation function**."
   ]
  },
  {
   "cell_type": "markdown",
   "id": "3247c43d-7e37-4e72-9232-5e01898c39a8",
   "metadata": {
    "deletable": false,
    "editable": false,
    "slideshow": {
     "slide_type": ""
    },
    "tags": []
   },
   "source": [
    "**Q5.** Recall the following about the activation functions:\n",
    "1. Sigmoid activation: $y = \\sigma(z) = \\frac{1}{1 + e^{-z}}$.\n",
    "2. Derivative of Sigmoid: $y' = \\sigma'(z) = \\sigma(z) (1 - \\sigma(z)) = y(1-y)$\n",
    "3. ReLu activation: $y = ReLu(z) = max(0, z)$\n",
    "4. Derivative of ReLu: $y' = ReLu'(z) = \\begin{cases} 0 \\; \\textrm{if } z < 0 \\\\ 1 \\; \\textrm{otherwise} \\end{cases} = \\begin{cases} 0 \\; \\textrm{if } y = 0 \\\\ 1 \\; \\textrm{otherwise} \\end{cases}$\n",
    "\n",
    "In the following cell implement the functions to compute activation functions Sigmoid and ReLu given $z$ and derivatives of the Sigmoid and ReLu activation functions given $y$. Note that, in the implementation, the derivative functions should actually accept $y$ as the input not $z$.\n",
    "\n",
    "In practice the input will not be just single numbers, but matrices. So functions or derivatives should be applied elementwise on matrices. Again avoid for loops, use the power of numpy arrays - search for numpy's capability of doing elementwise computations.\n",
    "\n",
    "Important: When implementing the sigmoid function make sure you handle overflows due to $e^{-z}$ being too large. To avoid you can choose to set the sigmoid value to 'the certain appropriate value' if $z$ is less than a certain good enough negative threshold. If you do not handle overflows, the entire result will be useless since the MLP will just output Nan (not a number) for every input at the end."
   ]
  },
  {
   "cell_type": "code",
   "execution_count": 256,
   "id": "ac42dde5-2b7d-4fc2-a5bc-4d396822e995",
   "metadata": {
    "nbgrader": {
     "grade": false,
     "grade_id": "cell-26cf7a0bbe0f6dd9",
     "locked": false,
     "schema_version": 3,
     "solution": true,
     "task": false
    }
   },
   "outputs": [],
   "source": [
    "def sigmoid(Z):\n",
    "\n",
    "    Z = np.clip(Z, -500, 500)\n",
    "    sigma = 1 / (1 + np.exp(-Z))\n",
    "    return(sigma)\n",
    "\n",
    "def deriv_sigmoid(Y):\n",
    "    sigma_prime = Y * (1 - Y)\n",
    "    return(sigma_prime)\n",
    "    \n",
    "\n",
    "def ReLu(Z):\n",
    "\n",
    "    relu = np.maximum(0, Z)\n",
    "    return(relu)\n",
    "\n",
    "def deriv_ReLu(Y):\n",
    "\n",
    "    relu_prime = np.where(Y > 0, 1, 0)\n",
    "    return(relu_prime)\n"
   ]
  },
  {
   "cell_type": "markdown",
   "id": "88ca012e-5c82-4689-8170-28f6110cc9b5",
   "metadata": {
    "deletable": false,
    "editable": false,
    "slideshow": {
     "slide_type": ""
    },
    "tags": []
   },
   "source": [
    "**Q6.** The following piece of code defines a simple MLP architecture as a Python class and subsequent initialization of a MLP model. <font color='blue'>Certain lines of code contains commented line numbers. Write a short sentence for each such line explaining its purpose. Feel free to refer to the lecture notes or any resources to answers these question. In addition, explain what the Y, Z, W variables refer to and their purpose</font>"
   ]
  },
  {
   "cell_type": "code",
   "execution_count": 257,
   "id": "7985eb85-6a89-4d01-b6cf-d58cb8b4d23f",
   "metadata": {
    "editable": true,
    "slideshow": {
     "slide_type": ""
    },
    "tags": []
   },
   "outputs": [],
   "source": [
    "class NNet:\n",
    "    def __init__(self, input_size = 784, output_size = 1, batch_size = 1000, hidden_layers = [500, 250, 50]):\n",
    "        self.Y = []\n",
    "        self.Z = []\n",
    "        self.W = []\n",
    "        self.input_size = input_size\n",
    "        self.output_size = output_size\n",
    "        self.batch_size = batch_size\n",
    "        self.hidden_layers = hidden_layers\n",
    "\n",
    "        layers = [input_size] + hidden_layers + [output_size]\n",
    "        L = len(hidden_layers) + 1\n",
    "    \n",
    "        for i in range(1, L + 1):\n",
    "            self.Y.append(np.zeros((layers[i], batch_size)))                        #line1\n",
    "            self.Z.append(np.zeros((layers[i], batch_size)))                        #Line2\n",
    "            self.W.append(2*(np.random.rand(layers[i], layers[i-1] + 1) - 0.5))     #Line3"
   ]
  },
  {
   "cell_type": "markdown",
   "id": "7854a0e4-9b83-4f52-8b59-3e64af141209",
   "metadata": {
    "deletable": false,
    "editable": false,
    "slideshow": {
     "slide_type": ""
    },
    "tags": []
   },
   "source": [
    "**Questions** (write answers in the cell below as strings)\n",
    "\n",
    "(i) What does the Y, Z, W variables refer to and their purpose?\n",
    "\n",
    "(ii) Line1: Explanation\n",
    "\n",
    "(iii) Line2: Explanation\n",
    "\n",
    "(iv) Line3: Explanation"
   ]
  },
  {
   "cell_type": "code",
   "execution_count": 258,
   "id": "cc9bf0a2-3bae-482d-8808-fe0085d0e55a",
   "metadata": {
    "editable": true,
    "slideshow": {
     "slide_type": ""
    },
    "tags": []
   },
   "outputs": [],
   "source": [
    "#Write answers here as strings:\n",
    "\n",
    "ans_i = \"Y stores the outputs of each layer after activation, Z keeps the raw values before activation, and W holds the weights (including biases) that connect the layers. Together, these are the core pieces the network uses to run forward passes and backpropagation.\"\n",
    "ans_ii = \"Creates zero-filled matrices to store the activations (Y) of each layer for the whole batch.\"\n",
    "ans_iii = \"Creates zero-filled matrices to store the pre-activation values (Z), which are the raw linear combinations before applying the activation function.\"\n",
    "ans_iv = \"Initializes the weight matrix (W) that connects the previous layer to the current one. The matrix has an extra column to include the bias, and the weights are randomly chosen from a uniform range between -1 and 1.\""
   ]
  },
  {
   "cell_type": "markdown",
   "id": "7ee71406-c0f7-4114-9d9c-bf25fe6d208a",
   "metadata": {
    "deletable": false,
    "editable": false,
    "slideshow": {
     "slide_type": ""
    },
    "tags": []
   },
   "source": [
    "**Q7.** Now we will implement the feedforward algorithm. Recall from the lectures that for each layer $l$ there is input $Y^{(l-1)}$ from the previous layer if $l > 1$ and input data $X$ if $l = 1$. Then we compute $Z^{(l)}$ using the weight matrix $W^{(l)}$ as follows from matrix multiplication:\n",
    "\n",
    "$Z^{(l)} = W^{(l)} Y^{(l-1)}$\n",
    "\n",
    "Make sure that during multiplication you add an additional row of one's to $Y^{(l-1)}$ to accommodate the bias term (concatenate the row of ones as the last row to be consistent with the grader). However, the rows of ones should not permanently remain on $Y^{(l-1)}$. <font color='blue'>Explain what the bias term is and how adding a row of one's help with the bias terms.</font> The weight matrices are initialised to afford this extra bias term, so no change to either $Z^{(l)}$ or $W^{(l)}$ is needed.\n",
    "\n",
    "Next compute $Y^{(l)}$, the output of layer $l$ by activation through sigmoid.\n",
    "\n",
    "$Y^{(l)} = \\sigma(Z^{(l)})$\n",
    "\n",
    "The implemented feedforward algorithm should take in a NNet model and an input matrix $X$ and output the modified MLP model - the $Y$'s and $Z$'s computed should be stored in the model for the backpropagation algorithm.\n",
    "\n",
    "As usual, avoid for loops as much as possible, use the power of numpy. However, you may use a for loop to iterate through the layers of the model."
   ]
  },
  {
   "cell_type": "code",
   "execution_count": 259,
   "id": "c41a778a-0d06-4295-ac80-3ea6bfbad9f0",
   "metadata": {},
   "outputs": [],
   "source": [
    "def feedforward(model, X):\n",
    "    A = X\n",
    "    L = len(model.W)\n",
    "    \n",
    "    for l in range(L):\n",
    "        # Add bias row\n",
    "        A_with_bias = np.vstack([A, np.ones((1, A.shape[1]))])\n",
    "        \n",
    "        # Compute weighted sum\n",
    "        Z = model.W[l] @ A_with_bias\n",
    "        model.Z[l] = Z\n",
    "        \n",
    "        # Apply activation function\n",
    "        if l == L - 1:  # Output layer\n",
    "            A = sigmoid(Z)\n",
    "        else:  # Hidden layers\n",
    "            A = ReLu(Z)\n",
    "        \n",
    "        model.Y[l] = A\n",
    "    \n",
    "    return model"
   ]
  },
  {
   "cell_type": "markdown",
   "id": "cbeea889-4e78-4bfc-b126-6d5d11ea571e",
   "metadata": {
    "deletable": false,
    "editable": false,
    "slideshow": {
     "slide_type": ""
    },
    "tags": []
   },
   "source": [
    "**Question** (write answer in the cell below as a string)\n",
    "\n",
    "Explain what the bias term is and how adding a row of one's help with the bias terms."
   ]
  },
  {
   "cell_type": "code",
   "execution_count": 260,
   "id": "ecea6410-625d-4d82-8a17-8c00407fb7d2",
   "metadata": {
    "editable": true,
    "slideshow": {
     "slide_type": ""
    },
    "tags": []
   },
   "outputs": [],
   "source": [
    "#Write the answer here as a string:\n",
    "\n",
    "ans_bias = \"The bias gives each neuron the flexibility to shift its activation curve horizontally, which helps the network fit the data more effectively. By appending a row of ones to the input, the bias weights can be incorporated into the matrix multiplication, providing every neuron with an additional parameter that operates independently of the input features.\""
   ]
  },
  {
   "cell_type": "markdown",
   "id": "f5b4c037-df9a-49eb-9519-51b86555b33c",
   "metadata": {
    "deletable": false,
    "editable": false,
    "slideshow": {
     "slide_type": ""
    },
    "tags": []
   },
   "source": [
    "**Q8.** Now we will implement the backpropagation algorithm. The cost function $C$ at the end is given by the square loss.\n",
    "\n",
    "$C = \\frac{1}{2} ||Y^{(L)} - Y||^{2}$, where $Y^{(L)}$ is the final output vector of the feedforward algorithm and $Y$ is the actual label vector associated with the input $X$.\n",
    "\n",
    "At each layer $l = 1, 2, \\cdots, L$ we compute the following (note that the gradients are matrices with the same dimensions as the variable to which we derivating with respect to):\n",
    "\n",
    "1. Gradient of $C$ with respect to $Z^{(l)}$ as <br> $\\frac{\\partial C}{\\partial Z^{(l)}} = deriv(A^{(l)}(Z^{(l)})) \\odot \\frac{\\partial C}{\\partial Y^{(L)}} $, <br> where $A^{(l)}$ is the activation function of the $l$th layer, and we use the derivative of that here. The $\\odot$ refers to the elementwise multiplication.\n",
    "\n",
    "2. Gradient of $C$ with respect to $W^{(l)}$ as <br> $\\frac{\\partial C}{\\partial W^{(l)}} = \\frac{\\partial C}{\\partial Z^{(l)}} (Y^{(l-1)})^{T}$ <br> this is entirely matrix multiplication.\n",
    "\n",
    "3. Gradient of $C$ with respect to $Y^{(l-1)}$ as <br> $\\frac{\\partial C}{\\partial Y^{(l-1)}} = (W^{(l)})^{T} \\frac{\\partial C}{\\partial Z^{(l)}}$ <br> this is also entirely matrix multiplication.\n",
    "\n",
    "4. Update weights by: <br> $W^{(l)} \\leftarrow W^{(l)} - \\eta \\frac{\\partial C}{\\partial W^{(l)}}$, <br> where $\\eta > 0$ is the learning rate.\n",
    "\n",
    "The loss derivative (the gradient of $C$ with respect to $Y^{(L)}$) at the last layer is given by:\n",
    "\n",
    "$\\frac{\\partial C}{\\partial Y^{(L)}} = Y^{(L)} - Y$\n",
    "\n",
    "By convention we consider $Y^{(0)} = X$, the input data.\n",
    "\n",
    "Based on the backpropagation algorithm implement the backpropagation method in the following cell. Remember to temporarily add a row of ones to $Y^{(l-1)}$ (as the last row to be consistent with the grader) when computing $\\frac{\\partial C}{\\partial W^{(l)}}$ as we discussed back in the feedforward algorithm. Make sure you avoid for loops as much as possible.\n",
    "\n",
    "The function takes in a NNet model, input data $X$ and the corresponding class labels $Y$. learning rate can be set as desired."
   ]
  },
  {
   "cell_type": "code",
   "execution_count": 261,
   "id": "d958af3f-5a72-462d-844f-aba8ce5b03c8",
   "metadata": {},
   "outputs": [],
   "source": [
    "def backpropagation(model, X, Y, eta=0.01):\n",
    "    \n",
    "    L = len(model.W)\n",
    "    m = X.shape[1]\n",
    "    \n",
    "    # Initialize gradient for output layer\n",
    "    dA = model.Y[L-1] - Y.reshape(1, -1) if Y.ndim == 1 else model.Y[L-1] - Y\n",
    "    \n",
    "    # Backpropagate through all layers\n",
    "    for l in reversed(range(L)):\n",
    "        if l == L - 1:\n",
    "            dZ = dA * deriv_sigmoid(model.Y[l])\n",
    "        else:\n",
    "            dZ = dA * deriv_ReLu(model.Y[l])\n",
    "        \n",
    "        # Get previous layer activations\n",
    "        if l == 0:\n",
    "            A_prev = X\n",
    "        else:\n",
    "            A_prev = model.Y[l-1]\n",
    "        \n",
    "        # Add bias to previous activations\n",
    "        A_prev_bias = np.vstack([A_prev, np.ones((1, A_prev.shape[1]))])\n",
    "        \n",
    "        # Compute weight gradients\n",
    "        dW = (1 / m) * (dZ @ A_prev_bias.T)\n",
    "        \n",
    "        # Compute gradients for previous layer (excluding bias)\n",
    "        if l > 0:\n",
    "            W_no_bias = model.W[l][:, :-1]\n",
    "            dA = W_no_bias.T @ dZ\n",
    "\n",
    "        # Update weights\n",
    "        model.W[l] -= eta * dW\n",
    "    \n",
    "    return model"
   ]
  },
  {
   "cell_type": "markdown",
   "id": "a2fad553-1ba4-4bee-b04b-249b9e04c6a9",
   "metadata": {
    "deletable": false,
    "editable": false,
    "slideshow": {
     "slide_type": ""
    },
    "tags": []
   },
   "source": [
    "**Q9.** Now implement the training algorithm.\n",
    "\n",
    "The training method takes in training data $X$, actual label $Y$, number of epochs, batch_size, learning rate $\\eta > 0$. The training will happen in epochs. For each epoch, permute the data columns of both $X$ and $Y$, then divide both $X$ and $Y$ into mini batches each with the given batch size. Then run the feedforward and backpropagation for each such batch iteratively.\n",
    "\n",
    "At the end of each iteration, keep trach of the cost $C$ and the $l_2$-norm of change in each weight matrix $W^{(l)}$.\n",
    "\n",
    "At the end of the last epoch, plot the variation cost $C$ and change in weight matrices. Then return the trained model.\n",
    "\n"
   ]
  },
  {
   "cell_type": "code",
   "execution_count": 262,
   "id": "fa4070ea-4a6b-4cba-b882-fa2ea79a9247",
   "metadata": {},
   "outputs": [],
   "source": [
    "def train_NNet(X, Y, epochs=20, batch_size=1000, eta=0.01):\n",
    "    # Initialize model\n",
    "    model = NNet(input_size=X.shape[0], output_size=Y.shape[0],\n",
    "                 batch_size=batch_size, hidden_layers=[16,16,4])\n",
    "\n",
    "    costs = []\n",
    "    weight_changes = []\n",
    "\n",
    "    n_samples = X.shape[1]\n",
    "\n",
    "    for epoch in range(epochs):\n",
    "        # Shuffle dataset\n",
    "        perm = np.random.permutation(n_samples)\n",
    "        X_shuffled = X[:, perm]\n",
    "        Y_shuffled = Y[:, perm]\n",
    "\n",
    "        epoch_cost = 0\n",
    "        epoch_weight_change = 0\n",
    "\n",
    "        # Mini-batch training\n",
    "        for start in range(0, n_samples, batch_size):\n",
    "            end = min(start + batch_size, n_samples)\n",
    "            X_batch = X_shuffled[:, start:end]\n",
    "            Y_batch = Y_shuffled[:, start:end]\n",
    "\n",
    "            # Forward pass\n",
    "            model = feedforward(model, X_batch)\n",
    "\n",
    "            # Store old weights to compute change\n",
    "            old_weights = [W.copy() for W in model.W]\n",
    "\n",
    "            # Backward pass\n",
    "            model = backpropagation(model, X_batch, Y_batch, eta)\n",
    "\n",
    "            # Compute batch cost (MSE)\n",
    "            batch_pred = model.Y[-1]\n",
    "            batch_cost = 0.5 * np.mean((batch_pred - Y_batch) ** 2)\n",
    "            epoch_cost += batch_cost\n",
    "\n",
    "            # Compute L2 norm of weight updates\n",
    "            batch_weight_change = sum(np.linalg.norm(W - W_old) for W, W_old in zip(model.W, old_weights))\n",
    "            epoch_weight_change += batch_weight_change\n",
    "\n",
    "        # Average cost across batches\n",
    "        n_batches = int(np.ceil(n_samples / batch_size))\n",
    "        costs.append(epoch_cost / n_batches)\n",
    "        weight_changes.append(epoch_weight_change)\n",
    "\n",
    "        print(f\"Epoch {epoch+1}/{epochs}, Cost: {costs[-1]:.6f}, Weight Change Norm: {epoch_weight_change:.6f}\")\n",
    "\n",
    "    # Plot cost and weight change over epochs\n",
    "    plt.figure(figsize=(12, 5))\n",
    "\n",
    "    plt.subplot(1, 2, 1)\n",
    "    plt.plot(costs, label='Average Cost', color='blue')\n",
    "    plt.xlabel('Epoch')\n",
    "    plt.ylabel('Cost')\n",
    "    plt.title('Training Cost over Epochs')\n",
    "    plt.legend()\n",
    "\n",
    "    plt.subplot(1, 2, 2)\n",
    "    plt.plot(weight_changes, label='Weight Change Norm', color='green')\n",
    "    plt.xlabel('Epoch')\n",
    "    plt.ylabel('L2 Norm of Weight Updates')\n",
    "    plt.title('Weight Update Magnitude over Epochs')\n",
    "    plt.legend()\n",
    "\n",
    "    plt.tight_layout()\n",
    "    plt.show()\n",
    "\n",
    "    return model\n"
   ]
  },
  {
   "cell_type": "markdown",
   "id": "2cd20299-a129-4d1d-a406-84e1a4dba621",
   "metadata": {
    "deletable": false,
    "editable": false,
    "slideshow": {
     "slide_type": ""
    },
    "tags": []
   },
   "source": [
    "## Section 3: Evaluation using test data"
   ]
  },
  {
   "cell_type": "markdown",
   "id": "d954c37c-f1b7-4e87-aedd-cf9e7624f612",
   "metadata": {
    "deletable": false,
    "editable": false,
    "slideshow": {
     "slide_type": ""
    },
    "tags": []
   },
   "source": [
    "**Q10.** Implement the following function predict. Given test images (3 dimensional numpy array that contains $28 \\times 28$ digit images) it will correctly recognize the written digits between d1 and d2. You can assume that test_images will only contain images of digits d1 and d2. Inside predict you would need to preprocess the images using vectorize, predict the correct labels using model and then output the correct lables. Output should be a vector predicted of d1's and d2's, predicted[i] should correspond to the test_image[i]."
   ]
  },
  {
   "cell_type": "code",
   "execution_count": 263,
   "id": "977dcbb8-1b5c-4f49-89f6-9bd90833957b",
   "metadata": {
    "deletable": false
   },
   "outputs": [],
   "source": [
    "def predict(model, test_images, d1, d2):\n",
    "\n",
    "    X_test = vectorize_images(test_images)\n",
    "\n",
    "    model = feedforward(model, X_test)\n",
    "\n",
    "    prs = model.Y[-1].flatten()  # shape (N,)\n",
    "\n",
    "    predicted = np.where(prs >= 0.5, d2, d1)\n",
    "\n",
    "    return (predicted)"
   ]
  },
  {
   "cell_type": "markdown",
   "id": "ab6f1db0-8f5f-442c-84f1-578c77b99537",
   "metadata": {
    "deletable": false,
    "editable": false,
    "slideshow": {
     "slide_type": ""
    },
    "tags": []
   },
   "source": [
    "**Q11.** Use the train_NNet function to train a MLP model to classify between images of digits $1$ and $5$. An accuracy $>= 99%$ is achievable. Test with different batch sizes, $\\eta$ values and hidden layers. Find which of those hyperparameters gives the best test accuracy. Name this model, model_1_5. This model will be tested on unseen test data within the grader. So make sure you train the best possible model. The grader will use your own predict function to evaluate the model."
   ]
  },
  {
   "cell_type": "code",
   "execution_count": 264,
   "id": "b0561199-92cc-4344-8509-c8ab798c33ab",
   "metadata": {},
   "outputs": [
    {
     "name": "stdout",
     "output_type": "stream",
     "text": [
      "Epoch 1/20, Cost: 0.200624, Weight Change Norm: 0.615646\n",
      "Epoch 2/20, Cost: 0.156262, Weight Change Norm: 0.875382\n",
      "Epoch 3/20, Cost: 0.103762, Weight Change Norm: 0.716442\n",
      "Epoch 4/20, Cost: 0.082518, Weight Change Norm: 0.564568\n",
      "Epoch 5/20, Cost: 0.073114, Weight Change Norm: 0.494819\n",
      "Epoch 6/20, Cost: 0.067214, Weight Change Norm: 0.460407\n",
      "Epoch 7/20, Cost: 0.061781, Weight Change Norm: 0.417160\n",
      "Epoch 8/20, Cost: 0.057758, Weight Change Norm: 0.392214\n",
      "Epoch 9/20, Cost: 0.054302, Weight Change Norm: 0.386268\n",
      "Epoch 10/20, Cost: 0.051428, Weight Change Norm: 0.375101\n",
      "Epoch 11/20, Cost: 0.048785, Weight Change Norm: 0.352158\n",
      "Epoch 12/20, Cost: 0.046468, Weight Change Norm: 0.344281\n",
      "Epoch 13/20, Cost: 0.044302, Weight Change Norm: 0.336970\n",
      "Epoch 14/20, Cost: 0.043083, Weight Change Norm: 0.330434\n",
      "Epoch 15/20, Cost: 0.040420, Weight Change Norm: 0.329330\n",
      "Epoch 16/20, Cost: 0.039104, Weight Change Norm: 0.340907\n",
      "Epoch 17/20, Cost: 0.037362, Weight Change Norm: 0.309735\n",
      "Epoch 18/20, Cost: 0.035896, Weight Change Norm: 0.303887\n",
      "Epoch 19/20, Cost: 0.034587, Weight Change Norm: 0.305616\n",
      "Epoch 20/20, Cost: 0.033433, Weight Change Norm: 0.299540\n"
     ]
    },
    {
     "data": {
      "image/png": "[encoded data removed]",
      "text/plain": [
       "<Figure size 1200x500 with 2 Axes>"
      ]
     },
     "metadata": {},
     "output_type": "display_data"
    }
   ],
   "source": [
    "Y_train = train_y_1_5.reshape(1, -1)\n",
    "\n",
    "# Train the model\n",
    "model_1_5 = train_NNet(train_X_1_5, Y_train, epochs=20, batch_size=64, eta=0.01)"
   ]
  },
  {
   "cell_type": "markdown",
   "id": "de8d0cb5-78d7-486e-98eb-1f162888c79a",
   "metadata": {
    "deletable": false,
    "editable": false,
    "slideshow": {
     "slide_type": ""
    },
    "tags": []
   },
   "source": [
    "**Q12.** Do the same as in Q11 with the digits $7$ and $9$ Name this model, model_7_9. This model will be tested on unseen test data within the grader. So make sure you train the best possible model. The grader will use your own predict function to evaluate the model."
   ]
  },
  {
   "cell_type": "code",
   "execution_count": 267,
   "id": "5f341921-1e67-49d2-95c7-72c9f06486e8",
   "metadata": {},
   "outputs": [
    {
     "name": "stdout",
     "output_type": "stream",
     "text": [
      "Epoch 1/30, Cost: 0.101046, Weight Change Norm: 6.682099\n",
      "Epoch 2/30, Cost: 0.051973, Weight Change Norm: 5.533010\n",
      "Epoch 3/30, Cost: 0.041414, Weight Change Norm: 5.068823\n",
      "Epoch 4/30, Cost: 0.035876, Weight Change Norm: 4.733187\n",
      "Epoch 5/30, Cost: 0.032234, Weight Change Norm: 4.526347\n",
      "Epoch 6/30, Cost: 0.029673, Weight Change Norm: 4.286058\n",
      "Epoch 7/30, Cost: 0.027775, Weight Change Norm: 4.313893\n",
      "Epoch 8/30, Cost: 0.026100, Weight Change Norm: 3.957614\n",
      "Epoch 9/30, Cost: 0.025045, Weight Change Norm: 4.142170\n",
      "Epoch 10/30, Cost: 0.024009, Weight Change Norm: 4.070633\n",
      "Epoch 11/30, Cost: 0.023088, Weight Change Norm: 3.953768\n",
      "Epoch 12/30, Cost: 0.022297, Weight Change Norm: 3.927032\n",
      "Epoch 13/30, Cost: 0.021704, Weight Change Norm: 3.852133\n",
      "Epoch 14/30, Cost: 0.021125, Weight Change Norm: 3.841909\n",
      "Epoch 15/30, Cost: 0.020603, Weight Change Norm: 3.716419\n",
      "Epoch 16/30, Cost: 0.020138, Weight Change Norm: 3.651497\n",
      "Epoch 17/30, Cost: 0.019760, Weight Change Norm: 3.760197\n",
      "Epoch 18/30, Cost: 0.019354, Weight Change Norm: 3.605392\n",
      "Epoch 19/30, Cost: 0.018994, Weight Change Norm: 3.645581\n",
      "Epoch 20/30, Cost: 0.018652, Weight Change Norm: 3.623533\n",
      "Epoch 21/30, Cost: 0.018306, Weight Change Norm: 3.599706\n",
      "Epoch 22/30, Cost: 0.018012, Weight Change Norm: 3.565238\n",
      "Epoch 23/30, Cost: 0.017701, Weight Change Norm: 3.637432\n",
      "Epoch 24/30, Cost: 0.017398, Weight Change Norm: 3.611406\n",
      "Epoch 25/30, Cost: 0.017153, Weight Change Norm: 3.437217\n",
      "Epoch 26/30, Cost: 0.016871, Weight Change Norm: 3.508905\n",
      "Epoch 27/30, Cost: 0.016690, Weight Change Norm: 3.496509\n",
      "Epoch 28/30, Cost: 0.016392, Weight Change Norm: 3.488295\n",
      "Epoch 29/30, Cost: 0.016178, Weight Change Norm: 3.341852\n",
      "Epoch 30/30, Cost: 0.015913, Weight Change Norm: 3.404288\n"
     ]
    },
    {
     "data": {
      "image/png": "[encoded data removed]",
      "text/plain": [
       "<Figure size 1200x500 with 2 Axes>"
      ]
     },
     "metadata": {},
     "output_type": "display_data"
    }
   ],
   "source": [
    "X_7_9, y_7_9 = extract_digits(train_X, train_y, 7, 9)\n",
    "\n",
    "train_X_7_9 = vectorize_images(X_7_9)\n",
    "\n",
    "train_y_7_9 = np.where(y_7_9 == 7, 0, 1)\n",
    "\n",
    "Y_train = train_y_7_9.reshape(1, -1)\n",
    "\n",
    "model_7_9 = train_NNet(train_X_7_9, Y_train, epochs=30, batch_size=32, eta=0.05)"
   ]
  }
 ],
 "metadata": {
  "kernelspec": {
   "display_name": "base",
   "language": "python",
   "name": "python3"
  },
  "language_info": {
   "codemirror_mode": {
    "name": "ipython",
    "version": 3
   },
   "file_extension": ".py",
   "mimetype": "text/x-python",
   "name": "python",
   "nbconvert_exporter": "python",
   "pygments_lexer": "ipython3",
   "version": "3.12.4"
  }
 },
 "nbformat": 4,
 "nbformat_minor": 5
}
